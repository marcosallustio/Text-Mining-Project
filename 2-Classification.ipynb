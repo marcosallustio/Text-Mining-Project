{
 "cells": [
  {
   "cell_type": "code",
   "execution_count": 1,
   "id": "9db962b2",
   "metadata": {},
   "outputs": [],
   "source": [
    "# initial imports\n",
    "import io\n",
    "import numpy as np\n",
    "import pandas as pd\n",
    "from tqdm import tqdm\n",
    "import os\n",
    "import joblib"
   ]
  },
  {
   "cell_type": "code",
   "execution_count": 2,
   "id": "e8311dd4",
   "metadata": {},
   "outputs": [],
   "source": [
    "reviews= pd.read_csv(\"final.csv\", index_col=0)\n",
    "label = reviews[\"sentiment\"]"
   ]
  },
  {
   "cell_type": "markdown",
   "id": "dfd2a501",
   "metadata": {},
   "source": [
    "# Text Representation"
   ]
  },
  {
   "cell_type": "markdown",
   "id": "ab842ebf",
   "metadata": {},
   "source": [
    "### Tf-Idf"
   ]
  },
  {
   "cell_type": "code",
   "execution_count": 24,
   "id": "465f5df5",
   "metadata": {},
   "outputs": [],
   "source": [
    "text_tfidf = joblib.load('processed_tfidf.save')"
   ]
  },
  {
   "cell_type": "markdown",
   "id": "2c1ced94",
   "metadata": {},
   "source": [
    "### Doc2Vec"
   ]
  },
  {
   "cell_type": "code",
   "execution_count": 3,
   "id": "53b296bb",
   "metadata": {},
   "outputs": [],
   "source": [
    "text_d2v = joblib.load('processed_d2v.save')"
   ]
  },
  {
   "cell_type": "markdown",
   "id": "b7cc9e09",
   "metadata": {},
   "source": [
    "# Text Classification"
   ]
  },
  {
   "cell_type": "markdown",
   "id": "eccac7d7",
   "metadata": {},
   "source": [
    "### Train/Test Splitting"
   ]
  },
  {
   "cell_type": "code",
   "execution_count": 4,
   "id": "559f817b",
   "metadata": {},
   "outputs": [],
   "source": [
    "from sklearn.metrics import classification_report\n",
    "from sklearn.preprocessing import LabelEncoder                   \n",
    "from sklearn.model_selection import train_test_split             #-- Split Dataset\n",
    "from sklearn.preprocessing import StandardScaler                 #-- Standard"
   ]
  },
  {
   "cell_type": "code",
   "execution_count": 7,
   "id": "f92d3063",
   "metadata": {},
   "outputs": [],
   "source": [
    "encoder = LabelEncoder()\n",
    "encoder.fit(label)\n",
    "labels = encoder.transform(label)"
   ]
  },
  {
   "cell_type": "code",
   "execution_count": 25,
   "id": "d0212f6f",
   "metadata": {},
   "outputs": [],
   "source": [
    "#TF-IDF\n",
    "X_trn_tfidf, X_tst_tfidf, y_trn, y_tst = train_test_split(text_tfidf,           #-- dataset\n",
    "                                                                labels,                     #-- class\n",
    "                                                                test_size = 0.30,          #-- 30% test set\n",
    "                                                                random_state = 123)\n",
    "scalar = StandardScaler(with_mean=False)\n",
    "X_trn_tfidf_std = scalar.fit_transform(X_trn_tfidf)\n",
    "X_tst_tfidf_std= scalar.transform(X_tst_tfidf)"
   ]
  },
  {
   "cell_type": "code",
   "execution_count": 8,
   "id": "e90cce8f",
   "metadata": {},
   "outputs": [],
   "source": [
    "#DOC2VEC\n",
    "X_trn_d2v, X_tst_d2v, y_trn, y_tst = train_test_split(text_d2v,           #-- dataset\n",
    "                                                                labels,                     #-- class\n",
    "                                                                test_size = 0.30,          #-- 30% test set\n",
    "                                                                random_state = 123)"
   ]
  },
  {
   "cell_type": "markdown",
   "id": "d88492a8",
   "metadata": {},
   "source": [
    "### Support Vector Machines (SVM)"
   ]
  },
  {
   "cell_type": "code",
   "execution_count": 9,
   "id": "67be4bdf",
   "metadata": {},
   "outputs": [],
   "source": [
    "from sklearn.svm import LinearSVC"
   ]
  },
  {
   "cell_type": "markdown",
   "id": "c425b8ba",
   "metadata": {},
   "source": [
    "#### Tf- Idf"
   ]
  },
  {
   "cell_type": "code",
   "execution_count": 27,
   "id": "3e5ace51",
   "metadata": {},
   "outputs": [],
   "source": [
    "clf_tfidf = LinearSVC(C=0.001)"
   ]
  },
  {
   "cell_type": "code",
   "execution_count": 28,
   "id": "cfa6fcba",
   "metadata": {},
   "outputs": [
    {
     "data": {
      "text/html": [
       "<style>#sk-container-id-2 {color: black;background-color: white;}#sk-container-id-2 pre{padding: 0;}#sk-container-id-2 div.sk-toggleable {background-color: white;}#sk-container-id-2 label.sk-toggleable__label {cursor: pointer;display: block;width: 100%;margin-bottom: 0;padding: 0.3em;box-sizing: border-box;text-align: center;}#sk-container-id-2 label.sk-toggleable__label-arrow:before {content: \"▸\";float: left;margin-right: 0.25em;color: #696969;}#sk-container-id-2 label.sk-toggleable__label-arrow:hover:before {color: black;}#sk-container-id-2 div.sk-estimator:hover label.sk-toggleable__label-arrow:before {color: black;}#sk-container-id-2 div.sk-toggleable__content {max-height: 0;max-width: 0;overflow: hidden;text-align: left;background-color: #f0f8ff;}#sk-container-id-2 div.sk-toggleable__content pre {margin: 0.2em;color: black;border-radius: 0.25em;background-color: #f0f8ff;}#sk-container-id-2 input.sk-toggleable__control:checked~div.sk-toggleable__content {max-height: 200px;max-width: 100%;overflow: auto;}#sk-container-id-2 input.sk-toggleable__control:checked~label.sk-toggleable__label-arrow:before {content: \"▾\";}#sk-container-id-2 div.sk-estimator input.sk-toggleable__control:checked~label.sk-toggleable__label {background-color: #d4ebff;}#sk-container-id-2 div.sk-label input.sk-toggleable__control:checked~label.sk-toggleable__label {background-color: #d4ebff;}#sk-container-id-2 input.sk-hidden--visually {border: 0;clip: rect(1px 1px 1px 1px);clip: rect(1px, 1px, 1px, 1px);height: 1px;margin: -1px;overflow: hidden;padding: 0;position: absolute;width: 1px;}#sk-container-id-2 div.sk-estimator {font-family: monospace;background-color: #f0f8ff;border: 1px dotted black;border-radius: 0.25em;box-sizing: border-box;margin-bottom: 0.5em;}#sk-container-id-2 div.sk-estimator:hover {background-color: #d4ebff;}#sk-container-id-2 div.sk-parallel-item::after {content: \"\";width: 100%;border-bottom: 1px solid gray;flex-grow: 1;}#sk-container-id-2 div.sk-label:hover label.sk-toggleable__label {background-color: #d4ebff;}#sk-container-id-2 div.sk-serial::before {content: \"\";position: absolute;border-left: 1px solid gray;box-sizing: border-box;top: 0;bottom: 0;left: 50%;z-index: 0;}#sk-container-id-2 div.sk-serial {display: flex;flex-direction: column;align-items: center;background-color: white;padding-right: 0.2em;padding-left: 0.2em;position: relative;}#sk-container-id-2 div.sk-item {position: relative;z-index: 1;}#sk-container-id-2 div.sk-parallel {display: flex;align-items: stretch;justify-content: center;background-color: white;position: relative;}#sk-container-id-2 div.sk-item::before, #sk-container-id-2 div.sk-parallel-item::before {content: \"\";position: absolute;border-left: 1px solid gray;box-sizing: border-box;top: 0;bottom: 0;left: 50%;z-index: -1;}#sk-container-id-2 div.sk-parallel-item {display: flex;flex-direction: column;z-index: 1;position: relative;background-color: white;}#sk-container-id-2 div.sk-parallel-item:first-child::after {align-self: flex-end;width: 50%;}#sk-container-id-2 div.sk-parallel-item:last-child::after {align-self: flex-start;width: 50%;}#sk-container-id-2 div.sk-parallel-item:only-child::after {width: 0;}#sk-container-id-2 div.sk-dashed-wrapped {border: 1px dashed gray;margin: 0 0.4em 0.5em 0.4em;box-sizing: border-box;padding-bottom: 0.4em;background-color: white;}#sk-container-id-2 div.sk-label label {font-family: monospace;font-weight: bold;display: inline-block;line-height: 1.2em;}#sk-container-id-2 div.sk-label-container {text-align: center;}#sk-container-id-2 div.sk-container {/* jupyter's `normalize.less` sets `[hidden] { display: none; }` but bootstrap.min.css set `[hidden] { display: none !important; }` so we also need the `!important` here to be able to override the default hidden behavior on the sphinx rendered scikit-learn.org. See: https://github.com/scikit-learn/scikit-learn/issues/21755 */display: inline-block !important;position: relative;}#sk-container-id-2 div.sk-text-repr-fallback {display: none;}</style><div id=\"sk-container-id-2\" class=\"sk-top-container\"><div class=\"sk-text-repr-fallback\"><pre>LinearSVC(C=0.001)</pre><b>In a Jupyter environment, please rerun this cell to show the HTML representation or trust the notebook. <br />On GitHub, the HTML representation is unable to render, please try loading this page with nbviewer.org.</b></div><div class=\"sk-container\" hidden><div class=\"sk-item\"><div class=\"sk-estimator sk-toggleable\"><input class=\"sk-toggleable__control sk-hidden--visually\" id=\"sk-estimator-id-2\" type=\"checkbox\" checked><label for=\"sk-estimator-id-2\" class=\"sk-toggleable__label sk-toggleable__label-arrow\">LinearSVC</label><div class=\"sk-toggleable__content\"><pre>LinearSVC(C=0.001)</pre></div></div></div></div></div>"
      ],
      "text/plain": [
       "LinearSVC(C=0.001)"
      ]
     },
     "execution_count": 28,
     "metadata": {},
     "output_type": "execute_result"
    }
   ],
   "source": [
    "clf_tfidf.fit(X_trn_tfidf_std, y_trn)"
   ]
  },
  {
   "cell_type": "code",
   "execution_count": 29,
   "id": "7710b1dc",
   "metadata": {},
   "outputs": [
    {
     "name": "stdout",
     "output_type": "stream",
     "text": [
      "              precision    recall  f1-score   support\n",
      "\n",
      "    Positive      0.764     0.751     0.757     15101\n",
      "    Negative      0.751     0.765     0.758     14864\n",
      "\n",
      "    accuracy                          0.758     29965\n",
      "   macro avg      0.758     0.758     0.758     29965\n",
      "weighted avg      0.758     0.758     0.758     29965\n",
      "\n"
     ]
    }
   ],
   "source": [
    "preds_tfidf = clf_tfidf.predict(X_tst_tfidf_std)\n",
    "print(classification_report(y_tst, preds_tfidf, digits=3, target_names=['Positive','Negative']))"
   ]
  },
  {
   "cell_type": "markdown",
   "id": "2ad60355",
   "metadata": {},
   "source": [
    "#### Doc2Vec"
   ]
  },
  {
   "cell_type": "code",
   "execution_count": 31,
   "id": "97d3c51f",
   "metadata": {},
   "outputs": [],
   "source": [
    "clf_d2v = LinearSVC(C=0.001)"
   ]
  },
  {
   "cell_type": "code",
   "execution_count": 32,
   "id": "c3785e98",
   "metadata": {},
   "outputs": [
    {
     "data": {
      "text/html": [
       "<style>#sk-container-id-3 {color: black;background-color: white;}#sk-container-id-3 pre{padding: 0;}#sk-container-id-3 div.sk-toggleable {background-color: white;}#sk-container-id-3 label.sk-toggleable__label {cursor: pointer;display: block;width: 100%;margin-bottom: 0;padding: 0.3em;box-sizing: border-box;text-align: center;}#sk-container-id-3 label.sk-toggleable__label-arrow:before {content: \"▸\";float: left;margin-right: 0.25em;color: #696969;}#sk-container-id-3 label.sk-toggleable__label-arrow:hover:before {color: black;}#sk-container-id-3 div.sk-estimator:hover label.sk-toggleable__label-arrow:before {color: black;}#sk-container-id-3 div.sk-toggleable__content {max-height: 0;max-width: 0;overflow: hidden;text-align: left;background-color: #f0f8ff;}#sk-container-id-3 div.sk-toggleable__content pre {margin: 0.2em;color: black;border-radius: 0.25em;background-color: #f0f8ff;}#sk-container-id-3 input.sk-toggleable__control:checked~div.sk-toggleable__content {max-height: 200px;max-width: 100%;overflow: auto;}#sk-container-id-3 input.sk-toggleable__control:checked~label.sk-toggleable__label-arrow:before {content: \"▾\";}#sk-container-id-3 div.sk-estimator input.sk-toggleable__control:checked~label.sk-toggleable__label {background-color: #d4ebff;}#sk-container-id-3 div.sk-label input.sk-toggleable__control:checked~label.sk-toggleable__label {background-color: #d4ebff;}#sk-container-id-3 input.sk-hidden--visually {border: 0;clip: rect(1px 1px 1px 1px);clip: rect(1px, 1px, 1px, 1px);height: 1px;margin: -1px;overflow: hidden;padding: 0;position: absolute;width: 1px;}#sk-container-id-3 div.sk-estimator {font-family: monospace;background-color: #f0f8ff;border: 1px dotted black;border-radius: 0.25em;box-sizing: border-box;margin-bottom: 0.5em;}#sk-container-id-3 div.sk-estimator:hover {background-color: #d4ebff;}#sk-container-id-3 div.sk-parallel-item::after {content: \"\";width: 100%;border-bottom: 1px solid gray;flex-grow: 1;}#sk-container-id-3 div.sk-label:hover label.sk-toggleable__label {background-color: #d4ebff;}#sk-container-id-3 div.sk-serial::before {content: \"\";position: absolute;border-left: 1px solid gray;box-sizing: border-box;top: 0;bottom: 0;left: 50%;z-index: 0;}#sk-container-id-3 div.sk-serial {display: flex;flex-direction: column;align-items: center;background-color: white;padding-right: 0.2em;padding-left: 0.2em;position: relative;}#sk-container-id-3 div.sk-item {position: relative;z-index: 1;}#sk-container-id-3 div.sk-parallel {display: flex;align-items: stretch;justify-content: center;background-color: white;position: relative;}#sk-container-id-3 div.sk-item::before, #sk-container-id-3 div.sk-parallel-item::before {content: \"\";position: absolute;border-left: 1px solid gray;box-sizing: border-box;top: 0;bottom: 0;left: 50%;z-index: -1;}#sk-container-id-3 div.sk-parallel-item {display: flex;flex-direction: column;z-index: 1;position: relative;background-color: white;}#sk-container-id-3 div.sk-parallel-item:first-child::after {align-self: flex-end;width: 50%;}#sk-container-id-3 div.sk-parallel-item:last-child::after {align-self: flex-start;width: 50%;}#sk-container-id-3 div.sk-parallel-item:only-child::after {width: 0;}#sk-container-id-3 div.sk-dashed-wrapped {border: 1px dashed gray;margin: 0 0.4em 0.5em 0.4em;box-sizing: border-box;padding-bottom: 0.4em;background-color: white;}#sk-container-id-3 div.sk-label label {font-family: monospace;font-weight: bold;display: inline-block;line-height: 1.2em;}#sk-container-id-3 div.sk-label-container {text-align: center;}#sk-container-id-3 div.sk-container {/* jupyter's `normalize.less` sets `[hidden] { display: none; }` but bootstrap.min.css set `[hidden] { display: none !important; }` so we also need the `!important` here to be able to override the default hidden behavior on the sphinx rendered scikit-learn.org. See: https://github.com/scikit-learn/scikit-learn/issues/21755 */display: inline-block !important;position: relative;}#sk-container-id-3 div.sk-text-repr-fallback {display: none;}</style><div id=\"sk-container-id-3\" class=\"sk-top-container\"><div class=\"sk-text-repr-fallback\"><pre>LinearSVC(C=0.001)</pre><b>In a Jupyter environment, please rerun this cell to show the HTML representation or trust the notebook. <br />On GitHub, the HTML representation is unable to render, please try loading this page with nbviewer.org.</b></div><div class=\"sk-container\" hidden><div class=\"sk-item\"><div class=\"sk-estimator sk-toggleable\"><input class=\"sk-toggleable__control sk-hidden--visually\" id=\"sk-estimator-id-3\" type=\"checkbox\" checked><label for=\"sk-estimator-id-3\" class=\"sk-toggleable__label sk-toggleable__label-arrow\">LinearSVC</label><div class=\"sk-toggleable__content\"><pre>LinearSVC(C=0.001)</pre></div></div></div></div></div>"
      ],
      "text/plain": [
       "LinearSVC(C=0.001)"
      ]
     },
     "execution_count": 32,
     "metadata": {},
     "output_type": "execute_result"
    }
   ],
   "source": [
    "clf_d2v.fit(X_trn_d2v, y_trn)"
   ]
  },
  {
   "cell_type": "code",
   "execution_count": 33,
   "id": "972898ad",
   "metadata": {},
   "outputs": [
    {
     "name": "stdout",
     "output_type": "stream",
     "text": [
      "              precision    recall  f1-score   support\n",
      "\n",
      "    Positive      0.752     0.731     0.741     15101\n",
      "    Negative      0.734     0.755     0.744     14864\n",
      "\n",
      "    accuracy                          0.743     29965\n",
      "   macro avg      0.743     0.743     0.743     29965\n",
      "weighted avg      0.743     0.743     0.743     29965\n",
      "\n"
     ]
    }
   ],
   "source": [
    "preds_d2v = clf_d2v.predict(X_tst_d2v)\n",
    "print(classification_report(y_tst, preds_d2v, digits=3, target_names=['Positive','Negative']))"
   ]
  },
  {
   "cell_type": "markdown",
   "id": "b30e979b",
   "metadata": {},
   "source": [
    "### Multilayer Perceptron (MLP)"
   ]
  },
  {
   "cell_type": "code",
   "execution_count": 13,
   "id": "8eea1bfa",
   "metadata": {},
   "outputs": [],
   "source": [
    "import tensorflow as tf\n",
    "from tensorflow.keras import layers\n",
    "import scipy"
   ]
  },
  {
   "cell_type": "markdown",
   "id": "d5377399",
   "metadata": {},
   "source": [
    "#### Tf-Idf"
   ]
  },
  {
   "cell_type": "code",
   "execution_count": 30,
   "id": "8f454da6",
   "metadata": {},
   "outputs": [],
   "source": [
    "inputs = tf.keras.Input(shape=(1000))\n",
    "\n",
    "x = layers.Dense(256, activation='relu')(inputs)\n",
    "x = layers.Dropout(0.3)(x)\n",
    "x = layers.Dense(200, activation='relu')(inputs)\n",
    "x = layers.Dropout(0.3)(x)\n",
    "x = layers.Dense(160, activation='relu')(inputs)\n",
    "x = layers.Dropout(0.3)(x)\n",
    "x = layers.Dense(120, activation='relu')(inputs)\n",
    "x = layers.Dropout(0.3)(x)\n",
    "x = layers.Dense(80, activation='relu')(inputs)\n",
    "x = layers.Dropout(0.3)(x)\n",
    "\n",
    "prediction = layers.Dense(1, activation=\"sigmoid\")(x)\n",
    "\n",
    "callback = tf.keras.callbacks.EarlyStopping(monitor='val_loss', patience=6)\n",
    "model_checkpoint_callback = tf.keras.callbacks.ModelCheckpoint(\n",
    "    filepath='./checkpoint/best_model.h5',\n",
    "    save_weights_only=True,\n",
    "    monitor='val_accuracy',\n",
    "    mode='max',\n",
    "    save_best_only=True)\n",
    "model = tf.keras.Model(inputs, prediction)\n",
    "model.compile(loss=\"binary_crossentropy\",\n",
    "              optimizer=\"adam\", metrics=[\"accuracy\"], )"
   ]
  },
  {
   "cell_type": "code",
   "execution_count": 31,
   "id": "51b96550",
   "metadata": {},
   "outputs": [],
   "source": [
    "from sklearn.model_selection import train_test_split\n",
    "\n",
    "X_train, X_val, Y_train, Y_val = train_test_split(\n",
    "    X_trn_tfidf_std, y_trn, test_size=0.2)"
   ]
  },
  {
   "cell_type": "code",
   "execution_count": 32,
   "id": "b968a7c9",
   "metadata": {},
   "outputs": [
    {
     "name": "stdout",
     "output_type": "stream",
     "text": [
      "Epoch 1/100\n",
      "1748/1748 [==============================] - 9s 4ms/step - loss: 0.5566 - accuracy: 0.7245 - val_loss: 0.5058 - val_accuracy: 0.7569\n",
      "Epoch 2/100\n",
      "1748/1748 [==============================] - 7s 4ms/step - loss: 0.4887 - accuracy: 0.7692 - val_loss: 0.5063 - val_accuracy: 0.7569\n",
      "Epoch 3/100\n",
      "1748/1748 [==============================] - 7s 4ms/step - loss: 0.4677 - accuracy: 0.7806 - val_loss: 0.5074 - val_accuracy: 0.7547\n",
      "Epoch 4/100\n",
      "1748/1748 [==============================] - 7s 4ms/step - loss: 0.4434 - accuracy: 0.7988 - val_loss: 0.5199 - val_accuracy: 0.7501\n",
      "Epoch 5/100\n",
      "1748/1748 [==============================] - 7s 4ms/step - loss: 0.4147 - accuracy: 0.8129 - val_loss: 0.5403 - val_accuracy: 0.7519\n",
      "Epoch 6/100\n",
      "1748/1748 [==============================] - 7s 4ms/step - loss: 0.3866 - accuracy: 0.8304 - val_loss: 0.5588 - val_accuracy: 0.7477\n",
      "Epoch 7/100\n",
      "1748/1748 [==============================] - 7s 4ms/step - loss: 0.3632 - accuracy: 0.8433 - val_loss: 0.5737 - val_accuracy: 0.7447\n"
     ]
    }
   ],
   "source": [
    "history = model.fit(X_train, Y_train, epochs=100,\n",
    "          callbacks=[model_checkpoint_callback, callback], validation_data=(X_val, Y_val))"
   ]
  },
  {
   "cell_type": "code",
   "execution_count": 33,
   "id": "17f4f6bb",
   "metadata": {
    "scrolled": true
   },
   "outputs": [
    {
     "name": "stderr",
     "output_type": "stream",
     "text": [
      "WARNING:absl:Found untraced functions such as _update_step_xla while saving (showing 1 of 1). These functions will not be directly callable after loading.\n"
     ]
    },
    {
     "name": "stdout",
     "output_type": "stream",
     "text": [
      "INFO:tensorflow:Assets written to: ./mlp_tfidf_save\\assets\n"
     ]
    },
    {
     "name": "stderr",
     "output_type": "stream",
     "text": [
      "INFO:tensorflow:Assets written to: ./mlp_tfidf_save\\assets\n"
     ]
    }
   ],
   "source": [
    "model.save('./mlp_tfidf_save')"
   ]
  },
  {
   "cell_type": "code",
   "execution_count": 34,
   "id": "1c173ce4",
   "metadata": {},
   "outputs": [
    {
     "name": "stdout",
     "output_type": "stream",
     "text": [
      "937/937 [==============================] - 1s 821us/step\n",
      "              precision    recall  f1-score   support\n",
      "\n",
      "    Positive      0.757     0.707     0.731     15101\n",
      "    Negative      0.721     0.769     0.744     14864\n",
      "\n",
      "    accuracy                          0.738     29965\n",
      "   macro avg      0.739     0.738     0.737     29965\n",
      "weighted avg      0.739     0.738     0.737     29965\n",
      "\n"
     ]
    }
   ],
   "source": [
    "model = tf.keras.models.load_model('./mlp_tfidf_save')\n",
    "preds = model.predict(X_tst_tfidf_std)\n",
    "preds = np.round(preds)\n",
    "predictions = []\n",
    "\n",
    "for item in preds:\n",
    "    predictions.append(int(item[0]))\n",
    "\n",
    "print(classification_report(y_tst, preds, digits=3, target_names=['Positive','Negative']))"
   ]
  },
  {
   "cell_type": "markdown",
   "id": "dc4b2ca9",
   "metadata": {},
   "source": [
    "#### Doc2Vec"
   ]
  },
  {
   "cell_type": "code",
   "execution_count": 14,
   "id": "1a8c027a",
   "metadata": {},
   "outputs": [],
   "source": [
    "# converti i dati del vettore in un array numpy\n",
    "X_tr_d2v = np.asarray(X_trn_d2v)\n",
    "\n",
    "# cambia il tipo di dati dell'array in float16\n",
    "doc2vec_data = X_tr_d2v.astype(np.float16)"
   ]
  },
  {
   "cell_type": "code",
   "execution_count": 15,
   "id": "a6b8fb16",
   "metadata": {},
   "outputs": [],
   "source": [
    "# converti i dati del vettore in un array numpy\n",
    "X_te_d2v = np.asarray(X_tst_d2v)\n",
    "\n",
    "# cambia il tipo di dati dell'array in float16\n",
    "doc2vec_test_data = X_te_d2v.astype(np.float16)    "
   ]
  },
  {
   "cell_type": "code",
   "execution_count": 16,
   "id": "42ac816f",
   "metadata": {},
   "outputs": [],
   "source": [
    "inputs = tf.keras.Input(shape=(doc2vec_data.shape[1]))\n",
    "\n",
    "x = layers.Dense(256, activation='relu')(inputs)\n",
    "x = layers.Dropout(0.3)(x)\n",
    "x = layers.Dense(200, activation='relu')(inputs)\n",
    "x = layers.Dropout(0.3)(x)\n",
    "x = layers.Dense(160, activation='relu')(inputs)\n",
    "x = layers.Dropout(0.3)(x)\n",
    "x = layers.Dense(120, activation='relu')(inputs)\n",
    "x = layers.Dropout(0.3)(x)\n",
    "x = layers.Dense(80, activation='relu')(inputs)\n",
    "x = layers.Dropout(0.3)(x)\n",
    "\n",
    "prediction = layers.Dense(1, activation=\"sigmoid\")(x)\n",
    "\n",
    "callback = tf.keras.callbacks.EarlyStopping(monitor='val_loss', patience=3)\n",
    "model_checkpoint_callback = tf.keras.callbacks.ModelCheckpoint(\n",
    "    filepath='./checkpoint/best_model_bow.h5',\n",
    "    save_weights_only=True,\n",
    "    monitor='val_accuracy',\n",
    "    mode='max',\n",
    "    save_best_only=True)\n",
    "model = tf.keras.Model(inputs, prediction)\n",
    "model.compile(loss=\"binary_crossentropy\",\n",
    "              optimizer=\"adam\", metrics=[\"accuracy\"], )"
   ]
  },
  {
   "cell_type": "code",
   "execution_count": 17,
   "id": "654517c9",
   "metadata": {},
   "outputs": [],
   "source": [
    "X_train, X_val, Y_train, Y_val = train_test_split(\n",
    "    doc2vec_data, y_trn, test_size=0.2)"
   ]
  },
  {
   "cell_type": "code",
   "execution_count": 18,
   "id": "cf1e6272",
   "metadata": {
    "scrolled": true
   },
   "outputs": [
    {
     "name": "stdout",
     "output_type": "stream",
     "text": [
      "Epoch 1/100\n",
      "55/55 [==============================] - 1s 12ms/step - loss: 0.6104 - accuracy: 0.6927 - val_loss: 0.5455 - val_accuracy: 0.7404\n",
      "Epoch 2/100\n",
      "55/55 [==============================] - 0s 7ms/step - loss: 0.5289 - accuracy: 0.7454 - val_loss: 0.5344 - val_accuracy: 0.7469\n",
      "Epoch 3/100\n",
      "55/55 [==============================] - 0s 7ms/step - loss: 0.5060 - accuracy: 0.7591 - val_loss: 0.5313 - val_accuracy: 0.7497\n",
      "Epoch 4/100\n",
      "55/55 [==============================] - 0s 7ms/step - loss: 0.4865 - accuracy: 0.7669 - val_loss: 0.5314 - val_accuracy: 0.7503\n",
      "Epoch 5/100\n",
      "55/55 [==============================] - 0s 8ms/step - loss: 0.4713 - accuracy: 0.7771 - val_loss: 0.5308 - val_accuracy: 0.7514\n",
      "Epoch 6/100\n",
      "55/55 [==============================] - 0s 9ms/step - loss: 0.4602 - accuracy: 0.7811 - val_loss: 0.5312 - val_accuracy: 0.7536\n",
      "Epoch 7/100\n",
      "55/55 [==============================] - 0s 7ms/step - loss: 0.4473 - accuracy: 0.7894 - val_loss: 0.5345 - val_accuracy: 0.7511\n",
      "Epoch 8/100\n",
      "55/55 [==============================] - 0s 9ms/step - loss: 0.4349 - accuracy: 0.7981 - val_loss: 0.5384 - val_accuracy: 0.7509\n"
     ]
    }
   ],
   "source": [
    "history = model.fit(X_train, Y_train, epochs=100, batch_size=1024,\n",
    "                    callbacks=[model_checkpoint_callback, callback], validation_data=(X_val, Y_val))"
   ]
  },
  {
   "cell_type": "code",
   "execution_count": 20,
   "id": "628519dc",
   "metadata": {
    "scrolled": false
   },
   "outputs": [
    {
     "name": "stderr",
     "output_type": "stream",
     "text": [
      "WARNING:absl:Found untraced functions such as _update_step_xla while saving (showing 1 of 1). These functions will not be directly callable after loading.\n"
     ]
    },
    {
     "name": "stdout",
     "output_type": "stream",
     "text": [
      "INFO:tensorflow:Assets written to: ./mlp_d2v_save\\assets\n"
     ]
    },
    {
     "name": "stderr",
     "output_type": "stream",
     "text": [
      "INFO:tensorflow:Assets written to: ./mlp_d2v_save\\assets\n"
     ]
    }
   ],
   "source": [
    "model.save('./mlp_d2v_save')"
   ]
  },
  {
   "cell_type": "code",
   "execution_count": 21,
   "id": "128473c9",
   "metadata": {},
   "outputs": [
    {
     "name": "stdout",
     "output_type": "stream",
     "text": [
      "937/937 [==============================] - 1s 813us/step\n",
      "              precision    recall  f1-score   support\n",
      "\n",
      "    Positive      0.764     0.741     0.753     15101\n",
      "    Negative      0.745     0.768     0.756     14864\n",
      "\n",
      "    accuracy                          0.754     29965\n",
      "   macro avg      0.755     0.755     0.754     29965\n",
      "weighted avg      0.755     0.754     0.754     29965\n",
      "\n"
     ]
    }
   ],
   "source": [
    "model = tf.keras.models.load_model('./mlp_d2v_save')\n",
    "preds = model.predict(doc2vec_test_data)\n",
    "preds = np.round(preds)\n",
    "predictions = []\n",
    "\n",
    "for item in preds:\n",
    "    predictions.append(int(item[0]))\n",
    "\n",
    "print(classification_report(y_tst, preds, digits=3, target_names=['Positive','Negative']))"
   ]
  },
  {
   "cell_type": "markdown",
   "id": "d85dc805",
   "metadata": {},
   "source": [
    "### Logistic Regression"
   ]
  },
  {
   "cell_type": "code",
   "execution_count": 42,
   "id": "66733857",
   "metadata": {},
   "outputs": [],
   "source": [
    "from sklearn.linear_model import LogisticRegression,SGDClassifier"
   ]
  },
  {
   "cell_type": "code",
   "execution_count": 43,
   "id": "9bb13797",
   "metadata": {},
   "outputs": [],
   "source": [
    "# training the model\n",
    "lr = LogisticRegression(penalty='l2',max_iter=500,C=1,random_state=42)"
   ]
  },
  {
   "cell_type": "markdown",
   "id": "7201209f",
   "metadata": {},
   "source": [
    "#### Tf-Idf"
   ]
  },
  {
   "cell_type": "code",
   "execution_count": 44,
   "id": "95da2416",
   "metadata": {},
   "outputs": [
    {
     "name": "stdout",
     "output_type": "stream",
     "text": [
      "LogisticRegression(C=1, max_iter=500, random_state=42)\n"
     ]
    }
   ],
   "source": [
    "# fitting the model \n",
    "lr_tfidf = lr.fit(X_trn_tfidf_std, y_trn)\n",
    "print(lr_tfidf)"
   ]
  },
  {
   "cell_type": "code",
   "execution_count": 45,
   "id": "5ad92c58",
   "metadata": {},
   "outputs": [
    {
     "name": "stdout",
     "output_type": "stream",
     "text": [
      "[1 1 1 ... 1 1 0]\n"
     ]
    }
   ],
   "source": [
    "# predicting the model for tfidf features\n",
    "lr_tfidf_predict = lr.predict(X_tst_tfidf_std)\n",
    "print(lr_tfidf_predict)"
   ]
  },
  {
   "cell_type": "code",
   "execution_count": 46,
   "id": "8f8c01a3",
   "metadata": {},
   "outputs": [
    {
     "name": "stdout",
     "output_type": "stream",
     "text": [
      "lr_tfidf_score : 0.7583180377106624\n"
     ]
    }
   ],
   "source": [
    "# accuracy score for tfidf features\n",
    "lr_tfidf_score = accuracy_score(y_tst, lr_tfidf_predict)\n",
    "print(\"lr_tfidf_score :\",lr_tfidf_score)"
   ]
  },
  {
   "cell_type": "code",
   "execution_count": 47,
   "id": "e25ccb3e",
   "metadata": {},
   "outputs": [
    {
     "name": "stdout",
     "output_type": "stream",
     "text": [
      "              precision    recall  f1-score   support\n",
      "\n",
      "    Positive      0.764     0.753     0.758     15101\n",
      "    Negative      0.753     0.764     0.758     14864\n",
      "\n",
      "    accuracy                          0.758     29965\n",
      "   macro avg      0.758     0.758     0.758     29965\n",
      "weighted avg      0.758     0.758     0.758     29965\n",
      "\n"
     ]
    }
   ],
   "source": [
    "# classification report for tfidf features\n",
    "lr_tfidf_report = classification_report(y_tst, lr_tfidf_predict,\n",
    "                                        digits=3, target_names=['Positive','Negative'])\n",
    "print(lr_tfidf_report)"
   ]
  },
  {
   "cell_type": "markdown",
   "id": "6e0c14ce",
   "metadata": {},
   "source": [
    "#### Doc2Vec"
   ]
  },
  {
   "cell_type": "code",
   "execution_count": 48,
   "id": "5140acb9",
   "metadata": {},
   "outputs": [
    {
     "name": "stdout",
     "output_type": "stream",
     "text": [
      "LogisticRegression(C=1, max_iter=500, random_state=42)\n"
     ]
    }
   ],
   "source": [
    "# fitting the model\n",
    "lr_d2v = lr.fit(X_trn_d2v, y_trn)\n",
    "print(lr_d2v)"
   ]
  },
  {
   "cell_type": "code",
   "execution_count": 49,
   "id": "0c11e6d4",
   "metadata": {},
   "outputs": [
    {
     "name": "stdout",
     "output_type": "stream",
     "text": [
      "[1 1 1 ... 1 0 0]\n"
     ]
    }
   ],
   "source": [
    "# predicting the model\n",
    "lr_d2v_predict = lr.predict(X_tst_d2v)\n",
    "print(lr_d2v_predict)"
   ]
  },
  {
   "cell_type": "code",
   "execution_count": 50,
   "id": "1bf9f005",
   "metadata": {},
   "outputs": [
    {
     "name": "stdout",
     "output_type": "stream",
     "text": [
      "lr_d2v_score : 0.7435007508760221\n"
     ]
    }
   ],
   "source": [
    "# accuracy score\n",
    "lr_d2v_score = accuracy_score(y_tst, lr_d2v_predict)\n",
    "print(\"lr_d2v_score :\",lr_d2v_score)"
   ]
  },
  {
   "cell_type": "code",
   "execution_count": 51,
   "id": "919773db",
   "metadata": {},
   "outputs": [
    {
     "name": "stdout",
     "output_type": "stream",
     "text": [
      "              precision    recall  f1-score   support\n",
      "\n",
      "    Positive      0.747     0.742     0.745     15101\n",
      "    Negative      0.740     0.745     0.742     14864\n",
      "\n",
      "    accuracy                          0.744     29965\n",
      "   macro avg      0.743     0.744     0.743     29965\n",
      "weighted avg      0.744     0.744     0.744     29965\n",
      "\n"
     ]
    }
   ],
   "source": [
    "# classification report  \n",
    "lr_d2v_report = classification_report(y_tst, lr_d2v_predict,\n",
    "                                      digits=3, target_names=['Positive','Negative'])\n",
    "print(lr_d2v_report)\n"
   ]
  }
 ],
 "metadata": {
  "kernelspec": {
   "display_name": "Python 3 (ipykernel)",
   "language": "python",
   "name": "python3"
  },
  "language_info": {
   "codemirror_mode": {
    "name": "ipython",
    "version": 3
   },
   "file_extension": ".py",
   "mimetype": "text/x-python",
   "name": "python",
   "nbconvert_exporter": "python",
   "pygments_lexer": "ipython3",
   "version": "3.10.9"
  }
 },
 "nbformat": 4,
 "nbformat_minor": 5
}
